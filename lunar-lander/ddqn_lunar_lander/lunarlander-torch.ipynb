{
 "cells": [
  {
   "cell_type": "code",
   "execution_count": null,
   "id": "95eafcc0-601b-4609-bed4-567e4653abdd",
   "metadata": {},
   "outputs": [],
   "source": [
    "! pip install -r requirements.txt"
   ]
  },
  {
   "cell_type": "code",
   "execution_count": null,
   "id": "9184d259-bfe0-4ad8-a43e-8bce502059c8",
   "metadata": {
    "execution": {
     "iopub.execute_input": "2023-02-07T21:22:21.755198Z",
     "iopub.status.busy": "2023-02-07T21:22:21.755051Z",
     "iopub.status.idle": "2023-02-07T21:22:23.585329Z",
     "shell.execute_reply": "2023-02-07T21:22:23.584743Z",
     "shell.execute_reply.started": "2023-02-07T21:22:21.755181Z"
    },
    "tags": []
   },
   "outputs": [],
   "source": [
    "import gymnasium as gym\n",
    "import os\n",
    "import matplotlib.pyplot as plt\n",
    "import json # for dumping debug data\n",
    "import time # for benchmarking\n",
    "import numpy as np\n",
    "from ddqn_torch import DoubleQAgent\n",
    "\n",
    "LEARN_EVERY = 4\n",
    "def train_agent(n_episodes=2000, load_model=None, best=0, lr = 0.0001, epsilon = 1.0, epsilon_end = 0.05):\n",
    "    print(\"Training a DDQN agent on {} episodes. Pretrained model = {}\".format(n_episodes,load_model))\n",
    "    env = gym.make(\n",
    "            \"LunarLander-v2\",\n",
    "            continuous = False,\n",
    "            gravity = -10.0,\n",
    "            enable_wind = False,\n",
    "            wind_power = 15.0,\n",
    "            turbulence_power = 1.5,\n",
    "        )\n",
    "    agent = DoubleQAgent(gamma=0.95, epsilon=epsilon, epsilon_dec=0.995, lr=lr, mem_size=200000, batch_size=256, epsilon_end=epsilon_end)\n",
    "    if load_model:\n",
    "        agent.load_saved_model(\"models/\"+load_model)\n",
    "        \n",
    "    start_states = []\n",
    "    scores = []\n",
    "    eps_history = []\n",
    "    start = time.time()\n",
    "    best_avg = best\n",
    "    for i in range(n_episodes):\n",
    "        terminated = False\n",
    "        truncated = False\n",
    "        score = 0\n",
    "        state = env.reset()[0]\n",
    "        start_states.append(state)\n",
    "        steps = 0\n",
    "        while not (terminated or truncated):\n",
    "            action = agent.choose_action(state)\n",
    "            new_state, reward, terminated, truncated, info = env.step(action)\n",
    "            agent.save(state, action, reward, new_state, terminated)\n",
    "            state = new_state\n",
    "            if steps > 0 and steps % LEARN_EVERY == 0:\n",
    "                agent.learn()\n",
    "            steps += 1\n",
    "            score += reward\n",
    "            \n",
    "        eps_history.append(agent.epsilon)\n",
    "        scores.append(score)\n",
    "        avg_score = np.mean(scores[max(0, i-100):])\n",
    "\n",
    "        if (i+1) % 10 == 0 and i > 0:\n",
    "            # Report expected time to finish the training\n",
    "            print('Episode {} in {:.2f} min. Expected total time for {} episodes: {:.0f} min. [{:.2f}/{:.2f}]'.format((i+1), \n",
    "                                                                                                                      (time.time() - start)/60, \n",
    "\n",
    "        if avg_score > best_avg and i > 100:\n",
    "            best_avg = avg_score\n",
    "            print(\">>> NEW BEST AVERAGE:\",best_avg)\n",
    "            agent.save_model(f'models/ddqn_torch_model_{round(best_avg,2)}.h5')\n",
    "            \n",
    "        # if (i+1) % 100 == 0 and i > 0:\n",
    "            # Save the model every N-th step just in case\n",
    "            # \n",
    "            # with open(\"ddqn_torch_dqn_scores_{}.json\".format(int(time.time())), \"w\") as fp:\n",
    "            #     json.dump(scores, fp)\n",
    "            # with open(\"ddqn_torch_eps_history_{}.json\".format(int(time.time())), \"w\") as fp:\n",
    "            #     json.dump(eps_history, fp)\n",
    "                \n",
    "    return agent, scores, start_states"
   ]
  },
  {
   "cell_type": "code",
   "execution_count": 20,
   "id": "611f905c-9a67-4de9-a351-be3003b9f26b",
   "metadata": {
    "execution": {
     "iopub.execute_input": "2023-02-07T21:22:23.587161Z",
     "iopub.status.busy": "2023-02-07T21:22:23.586690Z",
     "iopub.status.idle": "2023-02-07T21:22:23.589493Z",
     "shell.execute_reply": "2023-02-07T21:22:23.589027Z",
     "shell.execute_reply.started": "2023-02-07T21:22:23.587140Z"
    },
    "tags": []
   },
   "outputs": [
    {
     "name": "stdout",
     "output_type": "stream",
     "text": [
      "Training a DDQN agent on 10000 episodes. Pretrained model = None\n",
      "Episode 10 in 0.03 min. Expected total time for 10000 episodes: 31 min. [-411.73/-318.19]\n",
      "Episode 20 in 0.23 min. Expected total time for 10000 episodes: 119 min. [-233.95/-267.18]\n",
      "Episode 30 in 0.48 min. Expected total time for 10000 episodes: 166 min. [-179.81/-239.93]\n",
      "Episode 40 in 0.66 min. Expected total time for 10000 episodes: 168 min. [-167.57/-222.65]\n",
      "Episode 50 in 0.96 min. Expected total time for 10000 episodes: 196 min. [-105.13/-199.55]\n",
      "Episode 60 in 1.26 min. Expected total time for 10000 episodes: 214 min. [-167.13/-195.13]\n",
      "Episode 70 in 1.65 min. Expected total time for 10000 episodes: 238 min. [-154.70/-183.97]\n"
     ]
    },
    {
     "ename": "KeyboardInterrupt",
     "evalue": "",
     "output_type": "error",
     "traceback": [
      "\u001b[0;31m---------------------------------------------------------------------------\u001b[0m",
      "\u001b[0;31mKeyboardInterrupt\u001b[0m                         Traceback (most recent call last)",
      "\u001b[1;32m/workspace/lunar-lander-ddqn/lunarlander-torch.ipynb Cell 3\u001b[0m line \u001b[0;36m<cell line: 3>\u001b[0;34m()\u001b[0m\n\u001b[1;32m      <a href='vscode-notebook-cell://dev-container%2B433a5c55736572735c63616c6c655c446f63756d656e74735c4454555c444d494149323032335c646d696169323032335c6c756e61722d6c616e646572/workspace/lunar-lander-ddqn/lunarlander-torch.ipynb#W2sdnNjb2RlLXJlbW90ZQ%3D%3D?line=0'>1</a>\u001b[0m \u001b[39m# Uncomment to train\u001b[39;00m\n\u001b[1;32m      <a href='vscode-notebook-cell://dev-container%2B433a5c55736572735c63616c6c655c446f63756d656e74735c4454555c444d494149323032335c646d696169323032335c6c756e61722d6c616e646572/workspace/lunar-lander-ddqn/lunarlander-torch.ipynb#W2sdnNjb2RlLXJlbW90ZQ%3D%3D?line=1'>2</a>\u001b[0m \u001b[39mimport\u001b[39;00m \u001b[39mmatplotlib\u001b[39;00m\u001b[39m.\u001b[39;00m\u001b[39mpyplot\u001b[39;00m \u001b[39mas\u001b[39;00m \u001b[39mplt\u001b[39;00m\n\u001b[0;32m----> <a href='vscode-notebook-cell://dev-container%2B433a5c55736572735c63616c6c655c446f63756d656e74735c4454555c444d494149323032335c646d696169323032335c6c756e61722d6c616e646572/workspace/lunar-lander-ddqn/lunarlander-torch.ipynb#W2sdnNjb2RlLXJlbW90ZQ%3D%3D?line=2'>3</a>\u001b[0m agent, scores, start_states \u001b[39m=\u001b[39m train_agent(n_episodes\u001b[39m=\u001b[39;49m\u001b[39m10000\u001b[39;49m, lr \u001b[39m=\u001b[39;49m \u001b[39m0.001\u001b[39;49m, epsilon \u001b[39m=\u001b[39;49m \u001b[39m0.005\u001b[39;49m, epsilon_end \u001b[39m=\u001b[39;49m \u001b[39m0.005\u001b[39;49m)\n",
      "\u001b[1;32m/workspace/lunar-lander-ddqn/lunarlander-torch.ipynb Cell 3\u001b[0m line \u001b[0;36mtrain_agent\u001b[0;34m(n_episodes, load_model, best, lr, epsilon, epsilon_end)\u001b[0m\n\u001b[1;32m     <a href='vscode-notebook-cell://dev-container%2B433a5c55736572735c63616c6c655c446f63756d656e74735c4454555c444d494149323032335c646d696169323032335c6c756e61722d6c616e646572/workspace/lunar-lander-ddqn/lunarlander-torch.ipynb#W2sdnNjb2RlLXJlbW90ZQ%3D%3D?line=39'>40</a>\u001b[0m state \u001b[39m=\u001b[39m new_state\n\u001b[1;32m     <a href='vscode-notebook-cell://dev-container%2B433a5c55736572735c63616c6c655c446f63756d656e74735c4454555c444d494149323032335c646d696169323032335c6c756e61722d6c616e646572/workspace/lunar-lander-ddqn/lunarlander-torch.ipynb#W2sdnNjb2RlLXJlbW90ZQ%3D%3D?line=40'>41</a>\u001b[0m \u001b[39mif\u001b[39;00m steps \u001b[39m>\u001b[39m \u001b[39m0\u001b[39m \u001b[39mand\u001b[39;00m steps \u001b[39m%\u001b[39m LEARN_EVERY \u001b[39m==\u001b[39m \u001b[39m0\u001b[39m:\n\u001b[0;32m---> <a href='vscode-notebook-cell://dev-container%2B433a5c55736572735c63616c6c655c446f63756d656e74735c4454555c444d494149323032335c646d696169323032335c6c756e61722d6c616e646572/workspace/lunar-lander-ddqn/lunarlander-torch.ipynb#W2sdnNjb2RlLXJlbW90ZQ%3D%3D?line=41'>42</a>\u001b[0m     agent\u001b[39m.\u001b[39;49mlearn()\n\u001b[1;32m     <a href='vscode-notebook-cell://dev-container%2B433a5c55736572735c63616c6c655c446f63756d656e74735c4454555c444d494149323032335c646d696169323032335c6c756e61722d6c616e646572/workspace/lunar-lander-ddqn/lunarlander-torch.ipynb#W2sdnNjb2RlLXJlbW90ZQ%3D%3D?line=42'>43</a>\u001b[0m steps \u001b[39m+\u001b[39m\u001b[39m=\u001b[39m \u001b[39m1\u001b[39m\n\u001b[1;32m     <a href='vscode-notebook-cell://dev-container%2B433a5c55736572735c63616c6c655c446f63756d656e74735c4454555c444d494149323032335c646d696169323032335c6c756e61722d6c616e646572/workspace/lunar-lander-ddqn/lunarlander-torch.ipynb#W2sdnNjb2RlLXJlbW90ZQ%3D%3D?line=43'>44</a>\u001b[0m score \u001b[39m+\u001b[39m\u001b[39m=\u001b[39m reward\n",
      "File \u001b[0;32m/workspace/lunar-lander-ddqn/ddqn_torch.py:125\u001b[0m, in \u001b[0;36mAgent.DoubleQAgent.learn\u001b[0;34m(self)\u001b[0m\n\u001b[1;32m    123\u001b[0m q_next \u001b[39m=\u001b[39m \u001b[39mself\u001b[39m\u001b[39m.\u001b[39mq_func_target(new_states)\u001b[39m.\u001b[39mdetach()\u001b[39m.\u001b[39mmax(\u001b[39m1\u001b[39m)[\u001b[39m0\u001b[39m]\u001b[39m.\u001b[39munsqueeze(\u001b[39m1\u001b[39m)\n\u001b[1;32m    124\u001b[0m q_updated \u001b[39m=\u001b[39m rewards \u001b[39m+\u001b[39m \u001b[39mself\u001b[39m\u001b[39m.\u001b[39mgamma \u001b[39m*\u001b[39m q_next \u001b[39m*\u001b[39m (\u001b[39m1\u001b[39m \u001b[39m-\u001b[39m terminals)\n\u001b[0;32m--> 125\u001b[0m q \u001b[39m=\u001b[39m \u001b[39mself\u001b[39;49m\u001b[39m.\u001b[39;49mq_func(states)\u001b[39m.\u001b[39mgather(\u001b[39m1\u001b[39m, actions)\n\u001b[1;32m    127\u001b[0m \u001b[39m# 3. Update the main NN\u001b[39;00m\n\u001b[1;32m    128\u001b[0m loss \u001b[39m=\u001b[39m F\u001b[39m.\u001b[39mmse_loss(q, q_updated)\n",
      "File \u001b[0;32m/usr/local/lib/python3.9/site-packages/torch/nn/modules/module.py:1110\u001b[0m, in \u001b[0;36mModule._call_impl\u001b[0;34m(self, *input, **kwargs)\u001b[0m\n\u001b[1;32m   1106\u001b[0m \u001b[39m# If we don't have any hooks, we want to skip the rest of the logic in\u001b[39;00m\n\u001b[1;32m   1107\u001b[0m \u001b[39m# this function, and just call forward.\u001b[39;00m\n\u001b[1;32m   1108\u001b[0m \u001b[39mif\u001b[39;00m \u001b[39mnot\u001b[39;00m (\u001b[39mself\u001b[39m\u001b[39m.\u001b[39m_backward_hooks \u001b[39mor\u001b[39;00m \u001b[39mself\u001b[39m\u001b[39m.\u001b[39m_forward_hooks \u001b[39mor\u001b[39;00m \u001b[39mself\u001b[39m\u001b[39m.\u001b[39m_forward_pre_hooks \u001b[39mor\u001b[39;00m _global_backward_hooks\n\u001b[1;32m   1109\u001b[0m         \u001b[39mor\u001b[39;00m _global_forward_hooks \u001b[39mor\u001b[39;00m _global_forward_pre_hooks):\n\u001b[0;32m-> 1110\u001b[0m     \u001b[39mreturn\u001b[39;00m forward_call(\u001b[39m*\u001b[39;49m\u001b[39minput\u001b[39;49m, \u001b[39m*\u001b[39;49m\u001b[39m*\u001b[39;49mkwargs)\n\u001b[1;32m   1111\u001b[0m \u001b[39m# Do not call functions when jit is used\u001b[39;00m\n\u001b[1;32m   1112\u001b[0m full_backward_hooks, non_full_backward_hooks \u001b[39m=\u001b[39m [], []\n",
      "File \u001b[0;32m/workspace/lunar-lander-ddqn/ddqn_torch.py:48\u001b[0m, in \u001b[0;36mQNN.forward\u001b[0;34m(self, state)\u001b[0m\n\u001b[1;32m     47\u001b[0m \u001b[39mdef\u001b[39;00m \u001b[39mforward\u001b[39m(\u001b[39mself\u001b[39m, state):\n\u001b[0;32m---> 48\u001b[0m     x \u001b[39m=\u001b[39m \u001b[39mself\u001b[39;49m\u001b[39m.\u001b[39;49mfc1(state)\n\u001b[1;32m     49\u001b[0m     x \u001b[39m=\u001b[39m F\u001b[39m.\u001b[39mrelu(x)\n\u001b[1;32m     50\u001b[0m     x \u001b[39m=\u001b[39m \u001b[39mself\u001b[39m\u001b[39m.\u001b[39mfc2(x)\n",
      "File \u001b[0;32m/usr/local/lib/python3.9/site-packages/torch/nn/modules/module.py:1110\u001b[0m, in \u001b[0;36mModule._call_impl\u001b[0;34m(self, *input, **kwargs)\u001b[0m\n\u001b[1;32m   1106\u001b[0m \u001b[39m# If we don't have any hooks, we want to skip the rest of the logic in\u001b[39;00m\n\u001b[1;32m   1107\u001b[0m \u001b[39m# this function, and just call forward.\u001b[39;00m\n\u001b[1;32m   1108\u001b[0m \u001b[39mif\u001b[39;00m \u001b[39mnot\u001b[39;00m (\u001b[39mself\u001b[39m\u001b[39m.\u001b[39m_backward_hooks \u001b[39mor\u001b[39;00m \u001b[39mself\u001b[39m\u001b[39m.\u001b[39m_forward_hooks \u001b[39mor\u001b[39;00m \u001b[39mself\u001b[39m\u001b[39m.\u001b[39m_forward_pre_hooks \u001b[39mor\u001b[39;00m _global_backward_hooks\n\u001b[1;32m   1109\u001b[0m         \u001b[39mor\u001b[39;00m _global_forward_hooks \u001b[39mor\u001b[39;00m _global_forward_pre_hooks):\n\u001b[0;32m-> 1110\u001b[0m     \u001b[39mreturn\u001b[39;00m forward_call(\u001b[39m*\u001b[39;49m\u001b[39minput\u001b[39;49m, \u001b[39m*\u001b[39;49m\u001b[39m*\u001b[39;49mkwargs)\n\u001b[1;32m   1111\u001b[0m \u001b[39m# Do not call functions when jit is used\u001b[39;00m\n\u001b[1;32m   1112\u001b[0m full_backward_hooks, non_full_backward_hooks \u001b[39m=\u001b[39m [], []\n",
      "File \u001b[0;32m/usr/local/lib/python3.9/site-packages/torch/nn/modules/linear.py:103\u001b[0m, in \u001b[0;36mLinear.forward\u001b[0;34m(self, input)\u001b[0m\n\u001b[1;32m    102\u001b[0m \u001b[39mdef\u001b[39;00m \u001b[39mforward\u001b[39m(\u001b[39mself\u001b[39m, \u001b[39minput\u001b[39m: Tensor) \u001b[39m-\u001b[39m\u001b[39m>\u001b[39m Tensor:\n\u001b[0;32m--> 103\u001b[0m     \u001b[39mreturn\u001b[39;00m F\u001b[39m.\u001b[39;49mlinear(\u001b[39minput\u001b[39;49m, \u001b[39mself\u001b[39;49m\u001b[39m.\u001b[39;49mweight, \u001b[39mself\u001b[39;49m\u001b[39m.\u001b[39;49mbias)\n",
      "\u001b[0;31mKeyboardInterrupt\u001b[0m: "
     ]
    }
   ],
   "source": [
    "# Uncomment to train\n",
    "import matplotlib.pyplot as plt\n",
    "agent, scores, start_states = train_agent(n_episodes=10000, lr = 0.001, epsilon = 0.005, epsilon_end = 0.005)"
   ]
  },
  {
   "cell_type": "code",
   "execution_count": 15,
   "metadata": {},
   "outputs": [
    {
     "ename": "NameError",
     "evalue": "name 'start_states' is not defined",
     "output_type": "error",
     "traceback": [
      "\u001b[0;31m---------------------------------------------------------------------------\u001b[0m",
      "\u001b[0;31mNameError\u001b[0m                                 Traceback (most recent call last)",
      "\u001b[1;32m/workspace/lunar-lander-ddqn/lunarlander-torch.ipynb Cell 4\u001b[0m line \u001b[0;36m<cell line: 2>\u001b[0;34m()\u001b[0m\n\u001b[1;32m      <a href='vscode-notebook-cell://dev-container%2B433a5c55736572735c63616c6c655c446f63756d656e74735c4454555c444d494149323032335c646d696169323032335c6c756e61722d6c616e646572/workspace/lunar-lander-ddqn/lunarlander-torch.ipynb#W3sdnNjb2RlLXJlbW90ZQ%3D%3D?line=0'>1</a>\u001b[0m n_latest \u001b[39m=\u001b[39m \u001b[39m1000\u001b[39m\n\u001b[0;32m----> <a href='vscode-notebook-cell://dev-container%2B433a5c55736572735c63616c6c655c446f63756d656e74735c4454555c444d494149323032335c646d696169323032335c6c756e61722d6c616e646572/workspace/lunar-lander-ddqn/lunarlander-torch.ipynb#W3sdnNjb2RlLXJlbW90ZQ%3D%3D?line=1'>2</a>\u001b[0m \u001b[39mprint\u001b[39m(np\u001b[39m.\u001b[39marray(start_states)[:,:\u001b[39m2\u001b[39m]\u001b[39m.\u001b[39mshape)\n\u001b[1;32m      <a href='vscode-notebook-cell://dev-container%2B433a5c55736572735c63616c6c655c446f63756d656e74735c4454555c444d494149323032335c646d696169323032335c6c756e61722d6c616e646572/workspace/lunar-lander-ddqn/lunarlander-torch.ipynb#W3sdnNjb2RlLXJlbW90ZQ%3D%3D?line=2'>3</a>\u001b[0m plt\u001b[39m.\u001b[39mscatter(\u001b[39m*\u001b[39mnp\u001b[39m.\u001b[39marray(np\u001b[39m.\u001b[39marray(start_states)[:,:\u001b[39m2\u001b[39m][\u001b[39m-\u001b[39mn_latest:])\u001b[39m.\u001b[39mT, c\u001b[39m=\u001b[39mscores[\u001b[39m-\u001b[39mn_latest:], cmap\u001b[39m=\u001b[39m\u001b[39m'\u001b[39m\u001b[39mRdYlGn\u001b[39m\u001b[39m'\u001b[39m)\n\u001b[1;32m      <a href='vscode-notebook-cell://dev-container%2B433a5c55736572735c63616c6c655c446f63756d656e74735c4454555c444d494149323032335c646d696169323032335c6c756e61722d6c616e646572/workspace/lunar-lander-ddqn/lunarlander-torch.ipynb#W3sdnNjb2RlLXJlbW90ZQ%3D%3D?line=3'>4</a>\u001b[0m plt\u001b[39m.\u001b[39mcolorbar(label\u001b[39m=\u001b[39m\u001b[39m'\u001b[39m\u001b[39mScore\u001b[39m\u001b[39m'\u001b[39m)\n",
      "\u001b[0;31mNameError\u001b[0m: name 'start_states' is not defined"
     ]
    }
   ],
   "source": [
    "n_latest = 1000\n",
    "print(np.array(start_states)[:,:2].shape)\n",
    "plt.scatter(*np.array(np.array(start_states)[:,:2][-n_latest:]).T, c=scores[-n_latest:], cmap='RdYlGn')\n",
    "plt.colorbar(label='Score')\n",
    "plt.show()"
   ]
  },
  {
   "cell_type": "code",
   "execution_count": 3,
   "id": "e596f509-6b4a-4ef5-b8f6-aae925b3d279",
   "metadata": {
    "execution": {
     "iopub.execute_input": "2023-02-07T21:22:23.590427Z",
     "iopub.status.busy": "2023-02-07T21:22:23.590125Z",
     "iopub.status.idle": "2023-02-07T21:29:30.269658Z",
     "shell.execute_reply": "2023-02-07T21:29:30.269067Z",
     "shell.execute_reply.started": "2023-02-07T21:22:23.590411Z"
    },
    "tags": []
   },
   "outputs": [
    {
     "data": {
      "image/png": "[encoded data removed]",
      "text/plain": [
       "<Figure size 432x288 with 1 Axes>"
      ]
     },
     "metadata": {
      "needs_background": "light"
     },
     "output_type": "display_data"
    }
   ],
   "source": [
    "# Visualize the model\n",
    "import gymnasium as gym\n",
    "import os\n",
    "import matplotlib.pyplot as plt\n",
    "os.environ[\"SDL_VIDEODRIVER\"] = \"dummy\"\n",
    "from IPython.display import clear_output\n",
    "from ddqn_torch import DoubleQAgent\n",
    "\n",
    "# Set path to the model to visualize\n",
    "model_to_animate = 'stats/m6.h5'\n",
    "\n",
    "def animate_model(name, atype='single'):\n",
    "    env = gym.make(\"LunarLander-v2\", render_mode=\"rgb_array\")\n",
    "    agent = DoubleQAgent(gamma=0.99, epsilon=0.0, lr=0.0005, mem_size=200000, batch_size=64, epsilon_end=0.01)\n",
    "    agent.load_saved_model(name)\n",
    "    state, info = env.reset(seed=12)\n",
    "    for _ in range(5):\n",
    "        terminated = False\n",
    "        truncated = False\n",
    "        while not (terminated or truncated):\n",
    "            action = agent.choose_action(state)\n",
    "            new_state, reward, terminated, truncated, info = env.step(action)\n",
    "            state = new_state\n",
    "            clear_output(wait=True)\n",
    "            plt.imshow( env.render() )\n",
    "            plt.show()\n",
    "        state = env.reset()[0]\n",
    "    env.close()\n",
    "\n",
    "animate_model(model_to_animate, atype='double')"
   ]
  },
  {
   "cell_type": "code",
   "execution_count": 9,
   "id": "3cc018ff-a067-481c-9e37-dade4167d06c",
   "metadata": {},
   "outputs": [
    {
     "name": "stderr",
     "output_type": "stream",
     "text": [
      "\n",
      "\n",
      "\u001b[A\u001b[A\n",
      "\n",
      "\n",
      "\u001b[A\u001b[A\u001b[A\n",
      "\n",
      "\n",
      "\n",
      "\u001b[A\u001b[A\u001b[A\u001b[A"
     ]
    },
    {
     "name": "stderr",
     "output_type": "stream",
     "text": [
      "\n",
      "\n",
      "\n",
      "\n",
      "\u001b[A\u001b[A\u001b[A\u001b[A\n",
      "\n",
      "\n",
      "\n",
      "  0%|          | 0/20 [00:07<?, ?it/s]\n"
     ]
    },
    {
     "ename": "KeyboardInterrupt",
     "evalue": "",
     "output_type": "error",
     "traceback": [
      "\u001b[0;31m---------------------------------------------------------------------------\u001b[0m",
      "\u001b[0;31mKeyboardInterrupt\u001b[0m                         Traceback (most recent call last)",
      "\u001b[1;32m/workspace/lunar-lander-ddqn/lunarlander-torch.ipynb Cell 6\u001b[0m line \u001b[0;36m<cell line: 41>\u001b[0;34m()\u001b[0m\n\u001b[1;32m     <a href='vscode-notebook-cell://dev-container%2B433a5c55736572735c63616c6c655c446f63756d656e74735c4454555c444d494149323032335c646d696169323032335c6c756e61722d6c616e646572/workspace/lunar-lander-ddqn/lunarlander-torch.ipynb#W5sdnNjb2RlLXJlbW90ZQ%3D%3D?line=37'>38</a>\u001b[0m         state \u001b[39m=\u001b[39m env\u001b[39m.\u001b[39mreset()[\u001b[39m0\u001b[39m]\n\u001b[1;32m     <a href='vscode-notebook-cell://dev-container%2B433a5c55736572735c63616c6c655c446f63756d656e74735c4454555c444d494149323032335c646d696169323032335c6c756e61722d6c616e646572/workspace/lunar-lander-ddqn/lunarlander-torch.ipynb#W5sdnNjb2RlLXJlbW90ZQ%3D%3D?line=38'>39</a>\u001b[0m         \u001b[39mprint\u001b[39m(np\u001b[39m.\u001b[39mmean(rewards))\n\u001b[0;32m---> <a href='vscode-notebook-cell://dev-container%2B433a5c55736572735c63616c6c655c446f63756d656e74735c4454555c444d494149323032335c646d696169323032335c6c756e61722d6c616e646572/workspace/lunar-lander-ddqn/lunarlander-torch.ipynb#W5sdnNjb2RlLXJlbW90ZQ%3D%3D?line=40'>41</a>\u001b[0m test(model, test_games\u001b[39m=\u001b[39;49m\u001b[39m20\u001b[39;49m)\n",
      "\u001b[1;32m/workspace/lunar-lander-ddqn/lunarlander-torch.ipynb Cell 6\u001b[0m line \u001b[0;36mtest\u001b[0;34m(name, atype, test_games)\u001b[0m\n\u001b[1;32m     <a href='vscode-notebook-cell://dev-container%2B433a5c55736572735c63616c6c655c446f63756d656e74735c4454555c444d494149323032335c646d696169323032335c6c756e61722d6c616e646572/workspace/lunar-lander-ddqn/lunarlander-torch.ipynb#W5sdnNjb2RlLXJlbW90ZQ%3D%3D?line=36'>37</a>\u001b[0m     rewards\u001b[39m.\u001b[39mappend(rewards)\n\u001b[1;32m     <a href='vscode-notebook-cell://dev-container%2B433a5c55736572735c63616c6c655c446f63756d656e74735c4454555c444d494149323032335c646d696169323032335c6c756e61722d6c616e646572/workspace/lunar-lander-ddqn/lunarlander-torch.ipynb#W5sdnNjb2RlLXJlbW90ZQ%3D%3D?line=37'>38</a>\u001b[0m state \u001b[39m=\u001b[39m env\u001b[39m.\u001b[39mreset()[\u001b[39m0\u001b[39m]\n\u001b[0;32m---> <a href='vscode-notebook-cell://dev-container%2B433a5c55736572735c63616c6c655c446f63756d656e74735c4454555c444d494149323032335c646d696169323032335c6c756e61722d6c616e646572/workspace/lunar-lander-ddqn/lunarlander-torch.ipynb#W5sdnNjb2RlLXJlbW90ZQ%3D%3D?line=38'>39</a>\u001b[0m \u001b[39mprint\u001b[39m(np\u001b[39m.\u001b[39;49mmean(rewards))\n",
      "File \u001b[0;32m<__array_function__ internals>:180\u001b[0m, in \u001b[0;36mmean\u001b[0;34m(*args, **kwargs)\u001b[0m\n",
      "File \u001b[0;32m/usr/local/lib/python3.9/site-packages/numpy/core/fromnumeric.py:3474\u001b[0m, in \u001b[0;36mmean\u001b[0;34m(a, axis, dtype, out, keepdims, where)\u001b[0m\n\u001b[1;32m   3471\u001b[0m     \u001b[39melse\u001b[39;00m:\n\u001b[1;32m   3472\u001b[0m         \u001b[39mreturn\u001b[39;00m mean(axis\u001b[39m=\u001b[39maxis, dtype\u001b[39m=\u001b[39mdtype, out\u001b[39m=\u001b[39mout, \u001b[39m*\u001b[39m\u001b[39m*\u001b[39mkwargs)\n\u001b[0;32m-> 3474\u001b[0m \u001b[39mreturn\u001b[39;00m _methods\u001b[39m.\u001b[39;49m_mean(a, axis\u001b[39m=\u001b[39;49maxis, dtype\u001b[39m=\u001b[39;49mdtype,\n\u001b[1;32m   3475\u001b[0m                       out\u001b[39m=\u001b[39;49mout, \u001b[39m*\u001b[39;49m\u001b[39m*\u001b[39;49mkwargs)\n",
      "File \u001b[0;32m/usr/local/lib/python3.9/site-packages/numpy/core/_methods.py:163\u001b[0m, in \u001b[0;36m_mean\u001b[0;34m(a, axis, dtype, out, keepdims, where)\u001b[0m\n\u001b[1;32m    162\u001b[0m \u001b[39mdef\u001b[39;00m \u001b[39m_mean\u001b[39m(a, axis\u001b[39m=\u001b[39m\u001b[39mNone\u001b[39;00m, dtype\u001b[39m=\u001b[39m\u001b[39mNone\u001b[39;00m, out\u001b[39m=\u001b[39m\u001b[39mNone\u001b[39;00m, keepdims\u001b[39m=\u001b[39m\u001b[39mFalse\u001b[39;00m, \u001b[39m*\u001b[39m, where\u001b[39m=\u001b[39m\u001b[39mTrue\u001b[39;00m):\n\u001b[0;32m--> 163\u001b[0m     arr \u001b[39m=\u001b[39m asanyarray(a)\n\u001b[1;32m    165\u001b[0m     is_float16_result \u001b[39m=\u001b[39m \u001b[39mFalse\u001b[39;00m\n\u001b[1;32m    167\u001b[0m     rcount \u001b[39m=\u001b[39m _count_reduce_items(arr, axis, keepdims\u001b[39m=\u001b[39mkeepdims, where\u001b[39m=\u001b[39mwhere)\n",
      "\u001b[0;31mKeyboardInterrupt\u001b[0m: "
     ]
    }
   ],
   "source": [
    "\n",
    "        "
   ]
  },
  {
   "cell_type": "code",
   "execution_count": null,
   "metadata": {},
   "outputs": [],
   "source": []
  },
  {
   "cell_type": "code",
   "execution_count": null,
   "metadata": {},
   "outputs": [],
   "source": []
  }
 ],
 "metadata": {
  "kernelspec": {
   "display_name": "Python 3 (ipykernel)",
   "language": "python",
   "name": "python3"
  },
  "language_info": {
   "codemirror_mode": {
    "name": "ipython",
    "version": 3
   },
   "file_extension": ".py",
   "mimetype": "text/x-python",
   "name": "python",
   "nbconvert_exporter": "python",
   "pygments_lexer": "ipython3",
   "version": "3.9.5"
  }
 },
 "nbformat": 4,
 "nbformat_minor": 5
}
